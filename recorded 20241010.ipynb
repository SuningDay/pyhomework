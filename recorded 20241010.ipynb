{
 "cells": [
  {
   "cell_type": "code",
   "execution_count": 5,
   "id": "a78c0bdd-10b7-4367-82df-6265b94f391d",
   "metadata": {
    "tags": []
   },
   "outputs": [
    {
     "name": "stdin",
     "output_type": "stream",
     "text": [
      "please input a name:  yg\n"
     ]
    },
    {
     "ename": "ValueError",
     "evalue": "'yg' is not in list",
     "output_type": "error",
     "traceback": [
      "\u001b[1;31m---------------------------------------------------------------------------\u001b[0m",
      "\u001b[1;31mValueError\u001b[0m                                Traceback (most recent call last)",
      "Cell \u001b[1;32mIn[5], line 4\u001b[0m\n\u001b[0;32m      2\u001b[0m scores \u001b[38;5;241m=\u001b[39m [\u001b[38;5;241m90\u001b[39m, \u001b[38;5;241m80\u001b[39m, \u001b[38;5;241m100\u001b[39m]\n\u001b[0;32m      3\u001b[0m name \u001b[38;5;241m=\u001b[39m \u001b[38;5;28minput\u001b[39m(\u001b[38;5;124m'\u001b[39m\u001b[38;5;124mplease input a name: \u001b[39m\u001b[38;5;124m'\u001b[39m)\n\u001b[1;32m----> 4\u001b[0m \u001b[38;5;28mprint\u001b[39m(scores[names\u001b[38;5;241m.\u001b[39mindex(name)])\n",
      "\u001b[1;31mValueError\u001b[0m: 'yg' is not in list"
     ]
    }
   ],
   "source": [
    "names = ['zs', 'ls', 'ww']\n",
    "scores = [90, 80, 100]\n",
    "name = input('please input a name: ')\n",
    "print(scores[names.index(name)])"
   ]
  },
  {
   "cell_type": "code",
   "execution_count": 9,
   "id": "1658de06-90e1-4d97-ac1c-551fcd569159",
   "metadata": {
    "tags": []
   },
   "outputs": [
    {
     "name": "stdin",
     "output_type": "stream",
     "text": [
      "please input a name:  yg\n"
     ]
    },
    {
     "ename": "KeyError",
     "evalue": "'yg'",
     "output_type": "error",
     "traceback": [
      "\u001b[1;31m---------------------------------------------------------------------------\u001b[0m",
      "\u001b[1;31mKeyError\u001b[0m                                  Traceback (most recent call last)",
      "Cell \u001b[1;32mIn[9], line 3\u001b[0m\n\u001b[0;32m      1\u001b[0m scores \u001b[38;5;241m=\u001b[39m {\u001b[38;5;124m'\u001b[39m\u001b[38;5;124mzs\u001b[39m\u001b[38;5;124m'\u001b[39m:\u001b[38;5;241m90\u001b[39m, \u001b[38;5;124m'\u001b[39m\u001b[38;5;124mls\u001b[39m\u001b[38;5;124m'\u001b[39m:\u001b[38;5;241m80\u001b[39m, \u001b[38;5;124m'\u001b[39m\u001b[38;5;124mww\u001b[39m\u001b[38;5;124m'\u001b[39m:\u001b[38;5;241m100\u001b[39m}\n\u001b[0;32m      2\u001b[0m name \u001b[38;5;241m=\u001b[39m \u001b[38;5;28minput\u001b[39m(\u001b[38;5;124m'\u001b[39m\u001b[38;5;124mplease input a name: \u001b[39m\u001b[38;5;124m'\u001b[39m)\n\u001b[1;32m----> 3\u001b[0m \u001b[38;5;28mprint\u001b[39m(scores[name])\n",
      "\u001b[1;31mKeyError\u001b[0m: 'yg'"
     ]
    }
   ],
   "source": [
    "scores = {'zs':90, 'ls':80, 'ww':100}\n",
    "name = input('please input a name: ')\n",
    "print(scores[name])"
   ]
  },
  {
   "cell_type": "code",
   "execution_count": 11,
   "id": "3619f0dc-9e51-4200-ab83-52a8aee1c231",
   "metadata": {
    "tags": []
   },
   "outputs": [
    {
     "data": {
      "text/plain": [
       "True"
      ]
     },
     "execution_count": 11,
     "metadata": {},
     "output_type": "execute_result"
    }
   ],
   "source": [
    "'zs' in scores"
   ]
  },
  {
   "cell_type": "code",
   "execution_count": 13,
   "id": "f17e8114-d506-4d35-ac20-141f87baf484",
   "metadata": {
    "tags": []
   },
   "outputs": [
    {
     "data": {
      "text/plain": [
       "False"
      ]
     },
     "execution_count": 13,
     "metadata": {},
     "output_type": "execute_result"
    }
   ],
   "source": [
    "'yg' in scores"
   ]
  },
  {
   "cell_type": "code",
   "execution_count": 15,
   "id": "f82209fc-03ff-4aa4-8978-5aef320f5577",
   "metadata": {
    "tags": []
   },
   "outputs": [],
   "source": [
    "scores['yg'] = 120"
   ]
  },
  {
   "cell_type": "code",
   "execution_count": 17,
   "id": "d6861adf-75e0-4b88-88e9-401aab5d8a6e",
   "metadata": {
    "tags": []
   },
   "outputs": [
    {
     "name": "stdout",
     "output_type": "stream",
     "text": [
      "{'zs': 90, 'ls': 80, 'ww': 100, 'yg': 120}\n"
     ]
    }
   ],
   "source": [
    "print(scores)"
   ]
  },
  {
   "cell_type": "code",
   "execution_count": 19,
   "id": "1249a9f1-c715-4482-9f72-2a75b8081c0d",
   "metadata": {
    "tags": []
   },
   "outputs": [],
   "source": [
    "scores['yg'] = 60"
   ]
  },
  {
   "cell_type": "code",
   "execution_count": 21,
   "id": "cbcdef0a-d705-4e3a-8b0c-c22d93a950a9",
   "metadata": {
    "tags": []
   },
   "outputs": [
    {
     "name": "stdout",
     "output_type": "stream",
     "text": [
      "{'zs': 90, 'ls': 80, 'ww': 100, 'yg': 60}\n"
     ]
    }
   ],
   "source": [
    "print(scores)"
   ]
  },
  {
   "cell_type": "code",
   "execution_count": 23,
   "id": "bfd002c1-878a-45fc-acb5-0b09bd9db9ab",
   "metadata": {
    "tags": []
   },
   "outputs": [],
   "source": [
    "del scores['yg']"
   ]
  },
  {
   "cell_type": "code",
   "execution_count": 25,
   "id": "5114c517-79b6-4027-9990-0c51dddb3547",
   "metadata": {
    "tags": []
   },
   "outputs": [
    {
     "name": "stdout",
     "output_type": "stream",
     "text": [
      "{'zs': 90, 'ls': 80, 'ww': 100}\n"
     ]
    }
   ],
   "source": [
    "print(scores)"
   ]
  },
  {
   "cell_type": "code",
   "execution_count": 27,
   "id": "158bc474-d24b-4cf4-bb6a-fea08f7b0139",
   "metadata": {
    "tags": []
   },
   "outputs": [],
   "source": [
    "d = dict(name='zs', age=42)"
   ]
  },
  {
   "cell_type": "code",
   "execution_count": 29,
   "id": "b52973d0-3701-4e80-8e39-e435b7aa84d6",
   "metadata": {
    "tags": []
   },
   "outputs": [
    {
     "name": "stdout",
     "output_type": "stream",
     "text": [
      "{'name': 'zs', 'age': 42}\n"
     ]
    }
   ],
   "source": [
    "print(d)"
   ]
  },
  {
   "cell_type": "code",
   "execution_count": 31,
   "id": "e88a1877-3d52-4669-a5a1-fd9601681916",
   "metadata": {
    "tags": []
   },
   "outputs": [
    {
     "name": "stdout",
     "output_type": "stream",
     "text": [
      "zs 42\n"
     ]
    }
   ],
   "source": [
    "print(d['name'], d['age'])"
   ]
  },
  {
   "cell_type": "code",
   "execution_count": 35,
   "id": "8b760d27-62da-429e-8bb9-21e86d448e53",
   "metadata": {
    "tags": []
   },
   "outputs": [
    {
     "name": "stdout",
     "output_type": "stream",
     "text": [
      "{'name': 0, 'age': 0}\n"
     ]
    }
   ],
   "source": [
    "print({}.fromkeys(['name', 'age'], 0))"
   ]
  },
  {
   "cell_type": "code",
   "execution_count": 39,
   "id": "a07bf473-7486-4c24-a162-06ca097eaf90",
   "metadata": {
    "tags": []
   },
   "outputs": [
    {
     "name": "stdout",
     "output_type": "stream",
     "text": [
      "{'a': 0, 'e': 0, 'i': 0, 'o': 0, 'u': 0}\n"
     ]
    }
   ],
   "source": [
    "str = 'hello, this is a test. I designed the test for the simple purpose to test.'\n",
    "count = dict.fromkeys('aeiou', 0)\n",
    "print(count)"
   ]
  },
  {
   "cell_type": "code",
   "execution_count": 43,
   "id": "98fdda0d-ebc5-43fd-8ce6-890bb2b8e33f",
   "metadata": {
    "tags": []
   },
   "outputs": [
    {
     "name": "stdout",
     "output_type": "stream",
     "text": [
      "{'a': 1, 'e': 10, 'i': 4, 'o': 4, 'u': 1}\n"
     ]
    }
   ],
   "source": [
    "for ch in str:\n",
    "    if ch in count:\n",
    "        count[ch] += 1\n",
    "print(count)"
   ]
  },
  {
   "cell_type": "code",
   "execution_count": 45,
   "id": "c72b14d2-09bf-49f3-bb13-a07bb5618a76",
   "metadata": {
    "tags": []
   },
   "outputs": [
    {
     "data": {
      "text/plain": [
       "1"
      ]
     },
     "execution_count": 45,
     "metadata": {},
     "output_type": "execute_result"
    }
   ],
   "source": [
    "count.get('a')"
   ]
  },
  {
   "cell_type": "code",
   "execution_count": 55,
   "id": "3ad8245d-9823-46b6-8ad6-bdb31e2767f8",
   "metadata": {
    "tags": []
   },
   "outputs": [
    {
     "name": "stdout",
     "output_type": "stream",
     "text": [
      "N/A\n"
     ]
    }
   ],
   "source": [
    "print(count.get('h', 'N/A'))"
   ]
  },
  {
   "cell_type": "code",
   "execution_count": 58,
   "id": "e9f2343a-f9fb-4db8-b1af-175cdbe44181",
   "metadata": {
    "tags": []
   },
   "outputs": [],
   "source": [
    "text = '''\n",
    "Google today released the open source version of the differential privacy library used in some its core products, such as Google Maps. Any organization or developer can now check out the library on GitHub.\n",
    "\n",
    "Differential privacy limits the algorithms used to publish aggregate information about a statistical database. Whether you are a city planner, small business owner, or software developer, chances are you want to gain insights from the data of your citizens, customers, or users. But you don’t want to lose their trust in the process. Differentially private data analysis enables organizations to learn from the majority of their data without allowing any single individual’s data to be distinguished or re-identified.\n",
    "\n",
    "“If you are a health researcher, you may want to compare the average amount of time patients remain admitted across various hospitals in order to determine if there are differences in care,” Google product manager Miguel Guevara explains. “Differential privacy is a high-assurance, analytic means of ensuring that use cases like this are addressed in a privacy-preserving manner.”\n",
    "Differential privacy library features\n",
    "\n",
    "Google promises its library is easy for developers to deploy. It can help you perform functions that are difficult to execute from scratch, “like automatically calculating bounds on user contributions,” Guevera says. Key features include:\n",
    "\n",
    "    Statistical functions: Most common data science operations (counts, sums, averages, medians, and percentiles) are supported.\n",
    "    Rigorous testing: Besides an extensive test suite, an extensible “Stochastic Differential Privacy Model Checker library” helps prevent mistakes.\n",
    "    Ready to use: A PostgreSQL extension, along with common recipes, is included.\n",
    "    Modular: The library can be extended to include other functionalities, such as additional mechanisms, aggregation functions, or privacy budget management.\n",
    "\n",
    "This isn’t Google’s first differential privacy rodeo, but the company has been particularly busy in the space this year. In March, Google released TensorFlow Privacy and TensorFlow Federated. In June, the company open-sourced Private Join and Compute, which gives companies data insights while preserving privacy. To learn more about Google’s approach, check out the team’s technical paper on arXiv.\n",
    "'''"
   ]
  },
  {
   "cell_type": "code",
   "execution_count": 60,
   "id": "1d3c4923-25d7-4b3b-928a-fcecdd30f715",
   "metadata": {
    "tags": []
   },
   "outputs": [
    {
     "name": "stdout",
     "output_type": "stream",
     "text": [
      "{'b': 1, 'a': 0}\n"
     ]
    }
   ],
   "source": [
    "d = dict()\n",
    "d['b'] = 1\n",
    "d.setdefault('b', 0)\n",
    "d.setdefault('a', 0)\n",
    "print(d)"
   ]
  },
  {
   "cell_type": "code",
   "execution_count": null,
   "id": "1da1095a-c9bc-4305-ba13-90e197b31425",
   "metadata": {},
   "outputs": [],
   "source": [
    "#count.setdefault('this', 0)\n",
    "#count['this'] += 1"
   ]
  },
  {
   "cell_type": "code",
   "execution_count": 68,
   "id": "860c3e2b-b402-4e68-8962-14b1cf428b84",
   "metadata": {
    "tags": []
   },
   "outputs": [
    {
     "name": "stdout",
     "output_type": "stream",
     "text": [
      "['', 'google', 'today', 'released', 'the', 'open', 'source', 'version', 'of', 'the', 'differential', 'privacy', 'library', 'used', 'in', 'some', 'its', 'core', 'products', '', 'such', 'as', 'google', 'maps', '', 'any', 'organization', 'or', 'developer', 'can', 'now', 'check', 'out', 'the', 'library', 'on', 'github', '', '', 'differential', 'privacy', 'limits', 'the', 'algorithms', 'used', 'to', 'publish', 'aggregate', 'information', 'about', 'a', 'statistical', 'database', '', 'whether', 'you', 'are', 'a', 'city', 'planner', '', 'small', 'business', 'owner', '', 'or', 'software', 'developer', '', 'chances', 'are', 'you', 'want', 'to', 'gain', 'insights', 'from', 'the', 'data', 'of', 'your', 'citizens', '', 'customers', '', 'or', 'users', '', 'but', 'you', 'don’t', 'want', 'to', 'lose', 'their', 'trust', 'in', 'the', 'process', '', 'differentially', 'private', 'data', 'analysis', 'enables', 'organizations', 'to', 'learn', 'from', 'the', 'majority', 'of', 'their', 'data', 'without', 'allowing', 'any', 'single', 'individual’s', 'data', 'to', 'be', 'distinguished', 'or', 're', 'identified', '', '', '“if', 'you', 'are', 'a', 'health', 'researcher', '', 'you', 'may', 'want', 'to', 'compare', 'the', 'average', 'amount', 'of', 'time', 'patients', 'remain', 'admitted', 'across', 'various', 'hospitals', 'in', 'order', 'to', 'determine', 'if', 'there', 'are', 'differences', 'in', 'care', '”', 'google', 'product', 'manager', 'miguel', 'guevara', 'explains', '', '“differential', 'privacy', 'is', 'a', 'high', 'assurance', '', 'analytic', 'means', 'of', 'ensuring', 'that', 'use', 'cases', 'like', 'this', 'are', 'addressed', 'in', 'a', 'privacy', 'preserving', 'manner', '”', 'differential', 'privacy', 'library', 'features', '', 'google', 'promises', 'its', 'library', 'is', 'easy', 'for', 'developers', 'to', 'deploy', '', 'it', 'can', 'help', 'you', 'perform', 'functions', 'that', 'are', 'difficult', 'to', 'execute', 'from', 'scratch', '', '“like', 'automatically', 'calculating', 'bounds', 'on', 'user', 'contributions', '”', 'guevera', 'says', '', 'key', 'features', 'include', '', '', '', '', '', '', 'statistical', 'functions', '', 'most', 'common', 'data', 'science', 'operations', '', 'counts', '', 'sums', '', 'averages', '', 'medians', '', 'and', 'percentiles', '', 'are', 'supported', '', '', '', '', '', 'rigorous', 'testing', '', 'besides', 'an', 'extensive', 'test', 'suite', '', 'an', 'extensible', '“stochastic', 'differential', 'privacy', 'model', 'checker', 'library”', 'helps', 'prevent', 'mistakes', '', '', '', '', '', 'ready', 'to', 'use', '', 'a', 'postgresql', 'extension', '', 'along', 'with', 'common', 'recipes', '', 'is', 'included', '', '', '', '', '', 'modular', '', 'the', 'library', 'can', 'be', 'extended', 'to', 'include', 'other', 'functionalities', '', 'such', 'as', 'additional', 'mechanisms', '', 'aggregation', 'functions', '', 'or', 'privacy', 'budget', 'management', '', '', 'this', 'isn’t', 'google’s', 'first', 'differential', 'privacy', 'rodeo', '', 'but', 'the', 'company', 'has', 'been', 'particularly', 'busy', 'in', 'the', 'space', 'this', 'year', '', 'in', 'march', '', 'google', 'released', 'tensorflow', 'privacy', 'and', 'tensorflow', 'federated', '', 'in', 'june', '', 'the', 'company', 'open', 'sourced', 'private', 'join', 'and', 'compute', '', 'which', 'gives', 'companies', 'data', 'insights', 'while', 'preserving', 'privacy', '', 'to', 'learn', 'more', 'about', 'google’s', 'approach', '', 'check', 'out', 'the', 'team’s', 'technical', 'paper', 'on', 'arxiv', '', '']\n"
     ]
    }
   ],
   "source": [
    "text = text.lower().replace('\\n', ' ')\n",
    "for sep in '\\n,-\\t.()\\'\\\":;':\n",
    "    text = text.replace(sep, ' ')\n",
    "    \n",
    "words = text.split(' ')\n",
    "print(words)"
   ]
  },
  {
   "cell_type": "code",
   "execution_count": 70,
   "id": "228abfe4-9cc5-4671-9460-e54cb7c8df43",
   "metadata": {
    "tags": []
   },
   "outputs": [],
   "source": [
    "words.remove('')"
   ]
  },
  {
   "cell_type": "code",
   "execution_count": 72,
   "id": "206df2aa-c137-4a86-8c65-773d63b2f145",
   "metadata": {
    "tags": []
   },
   "outputs": [
    {
     "name": "stdout",
     "output_type": "stream",
     "text": [
      "['google', 'today', 'released', 'the', 'open', 'source', 'version', 'of', 'the', 'differential', 'privacy', 'library', 'used', 'in', 'some', 'its', 'core', 'products', '', 'such', 'as', 'google', 'maps', '', 'any', 'organization', 'or', 'developer', 'can', 'now', 'check', 'out', 'the', 'library', 'on', 'github', '', '', 'differential', 'privacy', 'limits', 'the', 'algorithms', 'used', 'to', 'publish', 'aggregate', 'information', 'about', 'a', 'statistical', 'database', '', 'whether', 'you', 'are', 'a', 'city', 'planner', '', 'small', 'business', 'owner', '', 'or', 'software', 'developer', '', 'chances', 'are', 'you', 'want', 'to', 'gain', 'insights', 'from', 'the', 'data', 'of', 'your', 'citizens', '', 'customers', '', 'or', 'users', '', 'but', 'you', 'don’t', 'want', 'to', 'lose', 'their', 'trust', 'in', 'the', 'process', '', 'differentially', 'private', 'data', 'analysis', 'enables', 'organizations', 'to', 'learn', 'from', 'the', 'majority', 'of', 'their', 'data', 'without', 'allowing', 'any', 'single', 'individual’s', 'data', 'to', 'be', 'distinguished', 'or', 're', 'identified', '', '', '“if', 'you', 'are', 'a', 'health', 'researcher', '', 'you', 'may', 'want', 'to', 'compare', 'the', 'average', 'amount', 'of', 'time', 'patients', 'remain', 'admitted', 'across', 'various', 'hospitals', 'in', 'order', 'to', 'determine', 'if', 'there', 'are', 'differences', 'in', 'care', '”', 'google', 'product', 'manager', 'miguel', 'guevara', 'explains', '', '“differential', 'privacy', 'is', 'a', 'high', 'assurance', '', 'analytic', 'means', 'of', 'ensuring', 'that', 'use', 'cases', 'like', 'this', 'are', 'addressed', 'in', 'a', 'privacy', 'preserving', 'manner', '”', 'differential', 'privacy', 'library', 'features', '', 'google', 'promises', 'its', 'library', 'is', 'easy', 'for', 'developers', 'to', 'deploy', '', 'it', 'can', 'help', 'you', 'perform', 'functions', 'that', 'are', 'difficult', 'to', 'execute', 'from', 'scratch', '', '“like', 'automatically', 'calculating', 'bounds', 'on', 'user', 'contributions', '”', 'guevera', 'says', '', 'key', 'features', 'include', '', '', '', '', '', '', 'statistical', 'functions', '', 'most', 'common', 'data', 'science', 'operations', '', 'counts', '', 'sums', '', 'averages', '', 'medians', '', 'and', 'percentiles', '', 'are', 'supported', '', '', '', '', '', 'rigorous', 'testing', '', 'besides', 'an', 'extensive', 'test', 'suite', '', 'an', 'extensible', '“stochastic', 'differential', 'privacy', 'model', 'checker', 'library”', 'helps', 'prevent', 'mistakes', '', '', '', '', '', 'ready', 'to', 'use', '', 'a', 'postgresql', 'extension', '', 'along', 'with', 'common', 'recipes', '', 'is', 'included', '', '', '', '', '', 'modular', '', 'the', 'library', 'can', 'be', 'extended', 'to', 'include', 'other', 'functionalities', '', 'such', 'as', 'additional', 'mechanisms', '', 'aggregation', 'functions', '', 'or', 'privacy', 'budget', 'management', '', '', 'this', 'isn’t', 'google’s', 'first', 'differential', 'privacy', 'rodeo', '', 'but', 'the', 'company', 'has', 'been', 'particularly', 'busy', 'in', 'the', 'space', 'this', 'year', '', 'in', 'march', '', 'google', 'released', 'tensorflow', 'privacy', 'and', 'tensorflow', 'federated', '', 'in', 'june', '', 'the', 'company', 'open', 'sourced', 'private', 'join', 'and', 'compute', '', 'which', 'gives', 'companies', 'data', 'insights', 'while', 'preserving', 'privacy', '', 'to', 'learn', 'more', 'about', 'google’s', 'approach', '', 'check', 'out', 'the', 'team’s', 'technical', 'paper', 'on', 'arxiv', '', '']\n"
     ]
    }
   ],
   "source": [
    "print(words)"
   ]
  },
  {
   "cell_type": "code",
   "execution_count": 76,
   "id": "31ad9c81-ddf1-4394-938d-f3e082d8d291",
   "metadata": {
    "tags": []
   },
   "outputs": [],
   "source": [
    "try:\n",
    "    while True: words.remove('')\n",
    "except:\n",
    "    pass"
   ]
  },
  {
   "cell_type": "code",
   "execution_count": 80,
   "id": "a565e433-dabc-45de-8948-2510ac0f10ec",
   "metadata": {
    "tags": []
   },
   "outputs": [
    {
     "name": "stdout",
     "output_type": "stream",
     "text": [
      "{'google': 5, 'today': 1, 'released': 2, 'the': 13, 'open': 2, 'source': 1, 'version': 1, 'of': 5, 'differential': 5, 'privacy': 10, 'library': 5, 'used': 2, 'in': 8, 'some': 1, 'its': 2, 'core': 1, 'products': 1, 'such': 2, 'as': 2, 'maps': 1, 'any': 2, 'organization': 1, 'or': 5, 'developer': 2, 'can': 3, 'now': 1, 'check': 2, 'out': 2, 'on': 3, 'github': 1, 'limits': 1, 'algorithms': 1, 'to': 12, 'publish': 1, 'aggregate': 1, 'information': 1, 'about': 2, 'a': 6, 'statistical': 2, 'database': 1, 'whether': 1, 'you': 6, 'are': 7, 'city': 1, 'planner': 1, 'small': 1, 'business': 1, 'owner': 1, 'software': 1, 'chances': 1, 'want': 3, 'gain': 1, 'insights': 2, 'from': 3, 'data': 6, 'your': 1, 'citizens': 1, 'customers': 1, 'users': 1, 'but': 2, 'don’t': 1, 'lose': 1, 'their': 2, 'trust': 1, 'process': 1, 'differentially': 1, 'private': 2, 'analysis': 1, 'enables': 1, 'organizations': 1, 'learn': 2, 'majority': 1, 'without': 1, 'allowing': 1, 'single': 1, 'individual’s': 1, 'be': 2, 'distinguished': 1, 're': 1, 'identified': 1, '“if': 1, 'health': 1, 'researcher': 1, 'may': 1, 'compare': 1, 'average': 1, 'amount': 1, 'time': 1, 'patients': 1, 'remain': 1, 'admitted': 1, 'across': 1, 'various': 1, 'hospitals': 1, 'order': 1, 'determine': 1, 'if': 1, 'there': 1, 'differences': 1, 'care': 1, '”': 3, 'product': 1, 'manager': 1, 'miguel': 1, 'guevara': 1, 'explains': 1, '“differential': 1, 'is': 3, 'high': 1, 'assurance': 1, 'analytic': 1, 'means': 1, 'ensuring': 1, 'that': 2, 'use': 2, 'cases': 1, 'like': 1, 'this': 3, 'addressed': 1, 'preserving': 2, 'manner': 1, 'features': 2, 'promises': 1, 'easy': 1, 'for': 1, 'developers': 1, 'deploy': 1, 'it': 1, 'help': 1, 'perform': 1, 'functions': 3, 'difficult': 1, 'execute': 1, 'scratch': 1, '“like': 1, 'automatically': 1, 'calculating': 1, 'bounds': 1, 'user': 1, 'contributions': 1, 'guevera': 1, 'says': 1, 'key': 1, 'include': 2, 'most': 1, 'common': 2, 'science': 1, 'operations': 1, 'counts': 1, 'sums': 1, 'averages': 1, 'medians': 1, 'and': 3, 'percentiles': 1, 'supported': 1, 'rigorous': 1, 'testing': 1, 'besides': 1, 'an': 2, 'extensive': 1, 'test': 1, 'suite': 1, 'extensible': 1, '“stochastic': 1, 'model': 1, 'checker': 1, 'library”': 1, 'helps': 1, 'prevent': 1, 'mistakes': 1, 'ready': 1, 'postgresql': 1, 'extension': 1, 'along': 1, 'with': 1, 'recipes': 1, 'included': 1, 'modular': 1, 'extended': 1, 'other': 1, 'functionalities': 1, 'additional': 1, 'mechanisms': 1, 'aggregation': 1, 'budget': 1, 'management': 1, 'isn’t': 1, 'google’s': 2, 'first': 1, 'rodeo': 1, 'company': 2, 'has': 1, 'been': 1, 'particularly': 1, 'busy': 1, 'space': 1, 'year': 1, 'march': 1, 'tensorflow': 2, 'federated': 1, 'june': 1, 'sourced': 1, 'join': 1, 'compute': 1, 'which': 1, 'gives': 1, 'companies': 1, 'while': 1, 'more': 1, 'approach': 1, 'team’s': 1, 'technical': 1, 'paper': 1, 'arxiv': 1}\n"
     ]
    }
   ],
   "source": [
    "count = dict()\n",
    "for word in words:\n",
    "    count.setdefault(word, 0)\n",
    "    count[word] += 1\n",
    "print(count)"
   ]
  },
  {
   "cell_type": "code",
   "execution_count": 82,
   "id": "6b461543-3a29-4f27-87c7-8ffe5609e632",
   "metadata": {
    "tags": []
   },
   "outputs": [
    {
     "name": "stdout",
     "output_type": "stream",
     "text": [
      "{5: ['google', 'of', 'differential', 'library', 'or'], 1: ['today', 'source', 'version', 'some', 'core', 'products', 'maps', 'organization', 'now', 'github', 'limits', 'algorithms', 'publish', 'aggregate', 'information', 'database', 'whether', 'city', 'planner', 'small', 'business', 'owner', 'software', 'chances', 'gain', 'your', 'citizens', 'customers', 'users', 'don’t', 'lose', 'trust', 'process', 'differentially', 'analysis', 'enables', 'organizations', 'majority', 'without', 'allowing', 'single', 'individual’s', 'distinguished', 're', 'identified', '“if', 'health', 'researcher', 'may', 'compare', 'average', 'amount', 'time', 'patients', 'remain', 'admitted', 'across', 'various', 'hospitals', 'order', 'determine', 'if', 'there', 'differences', 'care', 'product', 'manager', 'miguel', 'guevara', 'explains', '“differential', 'high', 'assurance', 'analytic', 'means', 'ensuring', 'cases', 'like', 'addressed', 'manner', 'promises', 'easy', 'for', 'developers', 'deploy', 'it', 'help', 'perform', 'difficult', 'execute', 'scratch', '“like', 'automatically', 'calculating', 'bounds', 'user', 'contributions', 'guevera', 'says', 'key', 'most', 'science', 'operations', 'counts', 'sums', 'averages', 'medians', 'percentiles', 'supported', 'rigorous', 'testing', 'besides', 'extensive', 'test', 'suite', 'extensible', '“stochastic', 'model', 'checker', 'library”', 'helps', 'prevent', 'mistakes', 'ready', 'postgresql', 'extension', 'along', 'with', 'recipes', 'included', 'modular', 'extended', 'other', 'functionalities', 'additional', 'mechanisms', 'aggregation', 'budget', 'management', 'isn’t', 'first', 'rodeo', 'has', 'been', 'particularly', 'busy', 'space', 'year', 'march', 'federated', 'june', 'sourced', 'join', 'compute', 'which', 'gives', 'companies', 'while', 'more', 'approach', 'team’s', 'technical', 'paper', 'arxiv'], 2: ['released', 'open', 'used', 'its', 'such', 'as', 'any', 'developer', 'check', 'out', 'about', 'statistical', 'insights', 'but', 'their', 'private', 'learn', 'be', 'that', 'use', 'preserving', 'features', 'include', 'common', 'an', 'google’s', 'company', 'tensorflow'], 13: ['the'], 10: ['privacy'], 8: ['in'], 3: ['can', 'on', 'want', 'from', '”', 'is', 'this', 'functions', 'and'], 12: ['to'], 6: ['a', 'you', 'data'], 7: ['are']}\n"
     ]
    }
   ],
   "source": [
    "words_by_count = dict()\n",
    "for word in count.keys():\n",
    "    words_by_count.setdefault(count[word], [])\n",
    "    words_by_count[count[word]].append(word)\n",
    "print(words_by_count)"
   ]
  },
  {
   "cell_type": "code",
   "execution_count": 84,
   "id": "465202fa-01b6-49c9-a373-d99e5f6c0967",
   "metadata": {
    "tags": []
   },
   "outputs": [
    {
     "data": {
      "text/plain": [
       "dict_keys([5, 1, 2, 13, 10, 8, 3, 12, 6, 7])"
      ]
     },
     "execution_count": 84,
     "metadata": {},
     "output_type": "execute_result"
    }
   ],
   "source": [
    "words_by_count.keys()"
   ]
  },
  {
   "cell_type": "code",
   "execution_count": 90,
   "id": "7456a062-bfa1-4b2f-ba6d-b04c0749e11a",
   "metadata": {
    "tags": []
   },
   "outputs": [
    {
     "name": "stdout",
     "output_type": "stream",
     "text": [
      "count 13: the \n",
      "count 12: to \n",
      "count 10: privacy \n",
      "count 8: in \n",
      "count 7: are \n",
      "count 6: a you data \n",
      "count 5: google of differential library or \n",
      "count 3: can on want from ” is this functions and \n",
      "count 2: released open used its such as any developer check out about statistical insights but their private learn be that use preserving features include common an google’s company tensorflow \n",
      "count 1: today source version some core products maps organization now github limits algorithms publish aggregate information database whether city planner small business owner software chances gain your citizens customers users don’t lose trust process differentially analysis enables organizations majority without allowing single individual’s distinguished re identified “if health researcher may compare average amount time patients remain admitted across various hospitals order determine if there differences care product manager miguel guevara explains “differential high assurance analytic means ensuring cases like addressed manner promises easy for developers deploy it help perform difficult execute scratch “like automatically calculating bounds user contributions guevera says key most science operations counts sums averages medians percentiles supported rigorous testing besides extensive test suite extensible “stochastic model checker library” helps prevent mistakes ready postgresql extension along with recipes included modular extended other functionalities additional mechanisms aggregation budget management isn’t first rodeo has been particularly busy space year march federated june sourced join compute which gives companies while more approach team’s technical paper arxiv \n"
     ]
    }
   ],
   "source": [
    "for item in sorted(words_by_count.keys(), reverse=True):\n",
    "    print(f'count {item}:', end=' ')\n",
    "    for word in words_by_count[item]:\n",
    "        print(word, end=' ')\n",
    "    print('')"
   ]
  },
  {
   "cell_type": "code",
   "execution_count": 98,
   "id": "46d53875-5dfd-40b7-bcc8-43981469ad71",
   "metadata": {
    "tags": []
   },
   "outputs": [
    {
     "data": {
      "image/png": "[encoded data removed]",
      "text/plain": [
       "<Figure size 1000x1000 with 1 Axes>"
      ]
     },
     "metadata": {},
     "output_type": "display_data"
    }
   ],
   "source": [
    "import matplotlib.pyplot as plt\n",
    "fig = plt.figure(figsize=(10, 10))\n",
    "ax = fig.subplots()\n",
    "names = ['x', 'y', 'z']\n",
    "value = [10, 20, 30]\n",
    "plt.bar(names, value)\n",
    "plt.show()"
   ]
  },
  {
   "cell_type": "code",
   "execution_count": 108,
   "id": "674bb8f9-5512-45a2-ad1a-591398b14f25",
   "metadata": {
    "tags": []
   },
   "outputs": [],
   "source": [
    "counts = []\n",
    "words = []\n",
    "\n",
    "for item in sorted(words_by_count.keys()):\n",
    "    for word in words_by_count[item]:\n",
    "        words.append(word)\n",
    "        counts.append(item)\n"
   ]
  },
  {
   "cell_type": "code",
   "execution_count": 104,
   "id": "225a03a3-6fbb-45ae-a286-93b88e9ab0b2",
   "metadata": {
    "tags": []
   },
   "outputs": [
    {
     "name": "stdout",
     "output_type": "stream",
     "text": [
      "['the', 'to', 'privacy', 'in', 'are', 'a', 'you', 'data', 'google', 'of', 'differential', 'library', 'or', 'can', 'on', 'want', 'from', '”', 'is', 'this', 'functions', 'and', 'released', 'open', 'used', 'its', 'such', 'as', 'any', 'developer', 'check', 'out', 'about', 'statistical', 'insights', 'but', 'their', 'private', 'learn', 'be', 'that', 'use', 'preserving', 'features', 'include', 'common', 'an', 'google’s', 'company', 'tensorflow', 'today', 'source', 'version', 'some', 'core', 'products', 'maps', 'organization', 'now', 'github', 'limits', 'algorithms', 'publish', 'aggregate', 'information', 'database', 'whether', 'city', 'planner', 'small', 'business', 'owner', 'software', 'chances', 'gain', 'your', 'citizens', 'customers', 'users', 'don’t', 'lose', 'trust', 'process', 'differentially', 'analysis', 'enables', 'organizations', 'majority', 'without', 'allowing', 'single', 'individual’s', 'distinguished', 're', 'identified', '“if', 'health', 'researcher', 'may', 'compare', 'average', 'amount', 'time', 'patients', 'remain', 'admitted', 'across', 'various', 'hospitals', 'order', 'determine', 'if', 'there', 'differences', 'care', 'product', 'manager', 'miguel', 'guevara', 'explains', '“differential', 'high', 'assurance', 'analytic', 'means', 'ensuring', 'cases', 'like', 'addressed', 'manner', 'promises', 'easy', 'for', 'developers', 'deploy', 'it', 'help', 'perform', 'difficult', 'execute', 'scratch', '“like', 'automatically', 'calculating', 'bounds', 'user', 'contributions', 'guevera', 'says', 'key', 'most', 'science', 'operations', 'counts', 'sums', 'averages', 'medians', 'percentiles', 'supported', 'rigorous', 'testing', 'besides', 'extensive', 'test', 'suite', 'extensible', '“stochastic', 'model', 'checker', 'library”', 'helps', 'prevent', 'mistakes', 'ready', 'postgresql', 'extension', 'along', 'with', 'recipes', 'included', 'modular', 'extended', 'other', 'functionalities', 'additional', 'mechanisms', 'aggregation', 'budget', 'management', 'isn’t', 'first', 'rodeo', 'has', 'been', 'particularly', 'busy', 'space', 'year', 'march', 'federated', 'june', 'sourced', 'join', 'compute', 'which', 'gives', 'companies', 'while', 'more', 'approach', 'team’s', 'technical', 'paper', 'arxiv']\n"
     ]
    }
   ],
   "source": [
    "print(words)"
   ]
  },
  {
   "cell_type": "code",
   "execution_count": 114,
   "id": "690ebba3-2aaa-4714-a81d-7573a8feab93",
   "metadata": {
    "tags": []
   },
   "outputs": [
    {
     "data": {
      "image/png": "[encoded data removed]",
      "text/plain": [
       "<Figure size 1000x2000 with 1 Axes>"
      ]
     },
     "metadata": {},
     "output_type": "display_data"
    }
   ],
   "source": [
    "import matplotlib.pyplot as plt\n",
    "fig = plt.figure(figsize=(10, 20))\n",
    "ax = fig.subplots()\n",
    "\n",
    "plt.barh(words[-20:], counts[-20:])\n",
    "plt.show()"
   ]
  },
  {
   "cell_type": "code",
   "execution_count": 118,
   "id": "0e5291d5-4bf8-4cb1-af70-d22f2636bbc1",
   "metadata": {
    "tags": []
   },
   "outputs": [],
   "source": [
    "import json\n",
    "\n",
    "with open('e:\\\\test.json', 'w') as f:\n",
    "    json.dump(words_by_count, f)\n",
    "    "
   ]
  },
  {
   "cell_type": "code",
   "execution_count": 120,
   "id": "026ab7a7-6455-487e-afcb-4c4f6b4408ab",
   "metadata": {
    "tags": []
   },
   "outputs": [
    {
     "name": "stdout",
     "output_type": "stream",
     "text": [
      "{'5': ['google', 'of', 'differential', 'library', 'or'], '1': ['today', 'source', 'version', 'some', 'core', 'products', 'maps', 'organization', 'now', 'github', 'limits', 'algorithms', 'publish', 'aggregate', 'information', 'database', 'whether', 'city', 'planner', 'small', 'business', 'owner', 'software', 'chances', 'gain', 'your', 'citizens', 'customers', 'users', 'don’t', 'lose', 'trust', 'process', 'differentially', 'analysis', 'enables', 'organizations', 'majority', 'without', 'allowing', 'single', 'individual’s', 'distinguished', 're', 'identified', '“if', 'health', 'researcher', 'may', 'compare', 'average', 'amount', 'time', 'patients', 'remain', 'admitted', 'across', 'various', 'hospitals', 'order', 'determine', 'if', 'there', 'differences', 'care', 'product', 'manager', 'miguel', 'guevara', 'explains', '“differential', 'high', 'assurance', 'analytic', 'means', 'ensuring', 'cases', 'like', 'addressed', 'manner', 'promises', 'easy', 'for', 'developers', 'deploy', 'it', 'help', 'perform', 'difficult', 'execute', 'scratch', '“like', 'automatically', 'calculating', 'bounds', 'user', 'contributions', 'guevera', 'says', 'key', 'most', 'science', 'operations', 'counts', 'sums', 'averages', 'medians', 'percentiles', 'supported', 'rigorous', 'testing', 'besides', 'extensive', 'test', 'suite', 'extensible', '“stochastic', 'model', 'checker', 'library”', 'helps', 'prevent', 'mistakes', 'ready', 'postgresql', 'extension', 'along', 'with', 'recipes', 'included', 'modular', 'extended', 'other', 'functionalities', 'additional', 'mechanisms', 'aggregation', 'budget', 'management', 'isn’t', 'first', 'rodeo', 'has', 'been', 'particularly', 'busy', 'space', 'year', 'march', 'federated', 'june', 'sourced', 'join', 'compute', 'which', 'gives', 'companies', 'while', 'more', 'approach', 'team’s', 'technical', 'paper', 'arxiv'], '2': ['released', 'open', 'used', 'its', 'such', 'as', 'any', 'developer', 'check', 'out', 'about', 'statistical', 'insights', 'but', 'their', 'private', 'learn', 'be', 'that', 'use', 'preserving', 'features', 'include', 'common', 'an', 'google’s', 'company', 'tensorflow'], '13': ['the'], '10': ['privacy'], '8': ['in'], '3': ['can', 'on', 'want', 'from', '”', 'is', 'this', 'functions', 'and'], '12': ['to'], '6': ['a', 'you', 'data'], '7': ['are']}\n"
     ]
    }
   ],
   "source": [
    "with open('e:\\\\test.json', 'r') as f:\n",
    "    test = json.load(f)\n",
    "\n",
    "print(test)"
   ]
  },
  {
   "cell_type": "code",
   "execution_count": 122,
   "id": "140edf6c-9d97-4b14-851f-c371e745cef8",
   "metadata": {
    "tags": []
   },
   "outputs": [],
   "source": [
    "x = bytearray(b'hello')"
   ]
  },
  {
   "cell_type": "code",
   "execution_count": 124,
   "id": "cd6eae0d-53f1-4d67-9d7a-810663d6b5cf",
   "metadata": {
    "tags": []
   },
   "outputs": [
    {
     "name": "stdout",
     "output_type": "stream",
     "text": [
      "bytearray(b'hello')\n"
     ]
    }
   ],
   "source": [
    "print(x)"
   ]
  },
  {
   "cell_type": "code",
   "execution_count": 126,
   "id": "583eff4a-5cca-48ab-aa90-cad9bfef0a8c",
   "metadata": {
    "tags": []
   },
   "outputs": [
    {
     "name": "stdout",
     "output_type": "stream",
     "text": [
      "bytearray(b'Hello')\n"
     ]
    }
   ],
   "source": [
    "x[0] = ord('H')\n",
    "print(x)"
   ]
  },
  {
   "cell_type": "code",
   "execution_count": 128,
   "id": "2b58704a-3ce2-4491-896e-e12e621d2b83",
   "metadata": {
    "tags": []
   },
   "outputs": [
    {
     "data": {
      "text/plain": [
       "b'hello'"
      ]
     },
     "execution_count": 128,
     "metadata": {},
     "output_type": "execute_result"
    }
   ],
   "source": [
    "'hello'.encode('ASCII')"
   ]
  },
  {
   "cell_type": "code",
   "execution_count": 132,
   "id": "398673e0-326f-44a9-8f18-1d2b65f3913b",
   "metadata": {
    "tags": []
   },
   "outputs": [
    {
     "data": {
      "text/plain": [
       "b'\\xc4\\xe3\\xba\\xc3'"
      ]
     },
     "execution_count": 132,
     "metadata": {},
     "output_type": "execute_result"
    }
   ],
   "source": [
    "'你好'.encode('MBCS')"
   ]
  },
  {
   "cell_type": "code",
   "execution_count": 134,
   "id": "c4cd9351-50dc-42c1-b164-0d105b14c793",
   "metadata": {
    "tags": []
   },
   "outputs": [
    {
     "data": {
      "text/plain": [
       "b'\\xe4\\xbd\\xa0\\xe5\\xa5\\xbd'"
      ]
     },
     "execution_count": 134,
     "metadata": {},
     "output_type": "execute_result"
    }
   ],
   "source": [
    "'你好'.encode('UTF-8')"
   ]
  },
  {
   "cell_type": "code",
   "execution_count": 136,
   "id": "db005c03-2108-4721-8fb1-44f308a7017d",
   "metadata": {
    "tags": []
   },
   "outputs": [
    {
     "data": {
      "text/plain": [
       "b'hello'"
      ]
     },
     "execution_count": 136,
     "metadata": {},
     "output_type": "execute_result"
    }
   ],
   "source": [
    "'hello'.encode('UTF-8')"
   ]
  },
  {
   "cell_type": "code",
   "execution_count": 138,
   "id": "d363305d-b19d-4e8d-9b0b-fe730e5bc36a",
   "metadata": {
    "tags": []
   },
   "outputs": [
    {
     "data": {
      "text/plain": [
       "12"
      ]
     },
     "execution_count": 138,
     "metadata": {},
     "output_type": "execute_result"
    }
   ],
   "source": [
    "len('hello'.encode('UTF-16'))"
   ]
  },
  {
   "cell_type": "code",
   "execution_count": 140,
   "id": "f85839c0-1a73-4700-8c7e-acccedfcb10e",
   "metadata": {
    "tags": []
   },
   "outputs": [
    {
     "data": {
      "text/plain": [
       "b'\\xff\\xfeh\\x00e\\x00l\\x00l\\x00o\\x00'"
      ]
     },
     "execution_count": 140,
     "metadata": {},
     "output_type": "execute_result"
    }
   ],
   "source": [
    "'hello'.encode('UTF-16')"
   ]
  },
  {
   "cell_type": "code",
   "execution_count": 146,
   "id": "aed02405-8f02-4313-b943-c4a61d7dd191",
   "metadata": {
    "tags": []
   },
   "outputs": [
    {
     "data": {
      "text/plain": [
       "24"
      ]
     },
     "execution_count": 146,
     "metadata": {},
     "output_type": "execute_result"
    }
   ],
   "source": [
    "len('hello'.encode('UTF-32'))"
   ]
  },
  {
   "cell_type": "code",
   "execution_count": 148,
   "id": "04e37d74-ee67-4193-b12f-06d53674fd89",
   "metadata": {
    "tags": []
   },
   "outputs": [],
   "source": [
    "x, y = 1, 2"
   ]
  },
  {
   "cell_type": "code",
   "execution_count": 150,
   "id": "8ead1b42-4e2c-440c-99ce-e3818fe7a7ef",
   "metadata": {
    "tags": []
   },
   "outputs": [],
   "source": [
    "x, y = y, x"
   ]
  },
  {
   "cell_type": "code",
   "execution_count": 152,
   "id": "63b9eaa2-ff30-4e5b-9c36-f764885eaadd",
   "metadata": {
    "tags": []
   },
   "outputs": [
    {
     "name": "stdout",
     "output_type": "stream",
     "text": [
      "2 1\n"
     ]
    }
   ],
   "source": [
    "print(x, y)"
   ]
  },
  {
   "cell_type": "code",
   "execution_count": 172,
   "id": "61a784c6-8c1e-40b6-bf8d-a5469706bdd7",
   "metadata": {
    "tags": []
   },
   "outputs": [],
   "source": [
    "t = (1, 2, 3, 4)"
   ]
  },
  {
   "cell_type": "code",
   "execution_count": 176,
   "id": "e9a49bf7-6efc-4a02-ac8b-2aa015333d5c",
   "metadata": {
    "tags": []
   },
   "outputs": [],
   "source": [
    "x, y, *z = t"
   ]
  },
  {
   "cell_type": "code",
   "execution_count": 178,
   "id": "22fc1299-94e2-49ad-9dc4-5bd54f7eb173",
   "metadata": {
    "tags": []
   },
   "outputs": [
    {
     "name": "stdout",
     "output_type": "stream",
     "text": [
      "1 2 [3, 4]\n"
     ]
    }
   ],
   "source": [
    "print(x, y, z)"
   ]
  },
  {
   "cell_type": "code",
   "execution_count": 180,
   "id": "f1f12424-7c43-4c30-b3b4-c6f1fe360411",
   "metadata": {
    "tags": []
   },
   "outputs": [],
   "source": [
    "x, *y, z = t"
   ]
  },
  {
   "cell_type": "code",
   "execution_count": 182,
   "id": "ba92af97-00d0-49a5-844f-0e877120f021",
   "metadata": {
    "tags": []
   },
   "outputs": [
    {
     "name": "stdout",
     "output_type": "stream",
     "text": [
      "1 [2, 3] 4\n"
     ]
    }
   ],
   "source": [
    "print(x, y, z)"
   ]
  },
  {
   "cell_type": "code",
   "execution_count": 184,
   "id": "ef6933fa-325a-4007-aa52-3c8896b91632",
   "metadata": {
    "tags": []
   },
   "outputs": [],
   "source": [
    "x = y = 3"
   ]
  },
  {
   "cell_type": "code",
   "execution_count": 186,
   "id": "ff418bfa-7980-4fae-9a04-a98c4e9e33d0",
   "metadata": {
    "tags": []
   },
   "outputs": [
    {
     "data": {
      "text/plain": [
       "True"
      ]
     },
     "execution_count": 186,
     "metadata": {},
     "output_type": "execute_result"
    }
   ],
   "source": [
    "x is y"
   ]
  },
  {
   "cell_type": "code",
   "execution_count": 188,
   "id": "4feeb2c7-a392-47fb-86a4-a16737d96f2c",
   "metadata": {
    "tags": []
   },
   "outputs": [
    {
     "data": {
      "text/plain": [
       "False"
      ]
     },
     "execution_count": 188,
     "metadata": {},
     "output_type": "execute_result"
    }
   ],
   "source": [
    "x = 4\n",
    "x is y"
   ]
  },
  {
   "cell_type": "code",
   "execution_count": 190,
   "id": "ff4f4225-0eb5-43e0-b229-4471d1c256f3",
   "metadata": {
    "tags": []
   },
   "outputs": [
    {
     "name": "stdout",
     "output_type": "stream",
     "text": [
      "[0, 2] [0, 2]\n"
     ]
    }
   ],
   "source": [
    "x = y = [1, 2]\n",
    "x[0] = 0\n",
    "print(x, y)"
   ]
  },
  {
   "cell_type": "code",
   "execution_count": 192,
   "id": "37637e5a-b791-40d3-8f11-64447a50997d",
   "metadata": {
    "tags": []
   },
   "outputs": [
    {
     "data": {
      "text/plain": [
       "True"
      ]
     },
     "execution_count": 192,
     "metadata": {},
     "output_type": "execute_result"
    }
   ],
   "source": [
    "x is y"
   ]
  },
  {
   "cell_type": "code",
   "execution_count": 194,
   "id": "197135f1-5234-4949-8445-38ccc2f9ddab",
   "metadata": {
    "tags": []
   },
   "outputs": [
    {
     "name": "stderr",
     "output_type": "stream",
     "text": [
      "<>:1: SyntaxWarning: \"is\" with a literal. Did you mean \"==\"?\n",
      "<>:1: SyntaxWarning: \"is\" with a literal. Did you mean \"==\"?\n",
      "C:\\Users\\yangg\\AppData\\Local\\Temp\\ipykernel_30900\\30664588.py:1: SyntaxWarning: \"is\" with a literal. Did you mean \"==\"?\n",
      "  3 is 3\n"
     ]
    },
    {
     "data": {
      "text/plain": [
       "True"
      ]
     },
     "execution_count": 194,
     "metadata": {},
     "output_type": "execute_result"
    }
   ],
   "source": [
    "3 is 3"
   ]
  },
  {
   "cell_type": "code",
   "execution_count": 196,
   "id": "11e4c20f-b53f-4599-a264-bd427e5aa99c",
   "metadata": {
    "tags": []
   },
   "outputs": [
    {
     "data": {
      "text/plain": [
       "False"
      ]
     },
     "execution_count": 196,
     "metadata": {},
     "output_type": "execute_result"
    }
   ],
   "source": [
    "[3] is [3]"
   ]
  },
  {
   "cell_type": "code",
   "execution_count": 198,
   "id": "d7c773c6-e7e4-452e-b3b3-04c60ee145f7",
   "metadata": {
    "tags": []
   },
   "outputs": [
    {
     "data": {
      "text/plain": [
       "True"
      ]
     },
     "execution_count": 198,
     "metadata": {},
     "output_type": "execute_result"
    }
   ],
   "source": [
    "[3] == [3]"
   ]
  },
  {
   "cell_type": "code",
   "execution_count": 200,
   "id": "45f69449-0c87-4ffc-845a-c242e034e7ec",
   "metadata": {
    "tags": []
   },
   "outputs": [
    {
     "name": "stderr",
     "output_type": "stream",
     "text": [
      "<>:1: SyntaxWarning: \"is\" with a literal. Did you mean \"==\"?\n",
      "<>:1: SyntaxWarning: \"is\" with a literal. Did you mean \"==\"?\n",
      "C:\\Users\\yangg\\AppData\\Local\\Temp\\ipykernel_30900\\709979984.py:1: SyntaxWarning: \"is\" with a literal. Did you mean \"==\"?\n",
      "  'abc' is 'abc'\n"
     ]
    },
    {
     "data": {
      "text/plain": [
       "True"
      ]
     },
     "execution_count": 200,
     "metadata": {},
     "output_type": "execute_result"
    }
   ],
   "source": [
    "'abc' is 'abc'"
   ]
  },
  {
   "cell_type": "code",
   "execution_count": 202,
   "id": "80d1d03e-3fc4-4e4a-a2ac-a01d4772adeb",
   "metadata": {
    "tags": []
   },
   "outputs": [
    {
     "name": "stdout",
     "output_type": "stream",
     "text": [
      "in the range\n"
     ]
    }
   ],
   "source": [
    "a = 4\n",
    "if 3 < a < 5:\n",
    "    print('in the range')\n",
    "else:\n",
    "    print('out of the range')"
   ]
  },
  {
   "cell_type": "code",
   "execution_count": 204,
   "id": "4b4d8398-1933-4f00-9f19-c4ee79e9116d",
   "metadata": {
    "tags": []
   },
   "outputs": [
    {
     "name": "stdout",
     "output_type": "stream",
     "text": [
      "3 3\n"
     ]
    }
   ],
   "source": [
    "def abs(a):\n",
    "    if a >= 0:\n",
    "        return a\n",
    "    else:\n",
    "        return -a\n",
    "\n",
    "print(abs(3), abs(-3))"
   ]
  },
  {
   "cell_type": "code",
   "execution_count": 206,
   "id": "f43930e0-6d75-44fc-a23b-e28e0b113792",
   "metadata": {
    "tags": []
   },
   "outputs": [
    {
     "name": "stdout",
     "output_type": "stream",
     "text": [
      "3 3\n"
     ]
    }
   ],
   "source": [
    "def abs(a):\n",
    "    return a if a >= 0 else -a\n",
    "\n",
    "print(abs(3), abs(-3))"
   ]
  },
  {
   "cell_type": "code",
   "execution_count": 210,
   "id": "1afb888d-5ede-4b00-b1d0-b6eac18f9336",
   "metadata": {
    "tags": []
   },
   "outputs": [
    {
     "name": "stdin",
     "output_type": "stream",
     "text": [
      "please input your name:  \n"
     ]
    },
    {
     "name": "stdout",
     "output_type": "stream",
     "text": [
      "forgot your name?\n"
     ]
    }
   ],
   "source": [
    "name = input('please input your name: ')\n",
    "if name:\n",
    "    print(f'hello, {name}')\n",
    "else:\n",
    "    print('forgot your name?')\n"
   ]
  },
  {
   "cell_type": "code",
   "execution_count": 212,
   "id": "0dbe2f79-74b6-4086-8fe1-7507833afdde",
   "metadata": {
    "tags": []
   },
   "outputs": [
    {
     "name": "stdin",
     "output_type": "stream",
     "text": [
      "please input your name:  \n"
     ]
    },
    {
     "name": "stdout",
     "output_type": "stream",
     "text": [
      "forgot your name?\n"
     ]
    }
   ],
   "source": [
    "name = input('please input your name: ')\n",
    "print(f'hello, {name}' if name else 'forgot your name?')"
   ]
  },
  {
   "cell_type": "code",
   "execution_count": 214,
   "id": "74e33226-61a2-44e5-b3f2-1dbde7c13444",
   "metadata": {
    "tags": []
   },
   "outputs": [],
   "source": [
    "if \"\":\n",
    "    print('hello')"
   ]
  },
  {
   "cell_type": "code",
   "execution_count": 216,
   "id": "03bd68ec-c1ec-4519-aa33-42e802041da9",
   "metadata": {
    "tags": []
   },
   "outputs": [
    {
     "data": {
      "text/plain": [
       "False"
      ]
     },
     "execution_count": 216,
     "metadata": {},
     "output_type": "execute_result"
    }
   ],
   "source": [
    "\"\" == False"
   ]
  },
  {
   "cell_type": "code",
   "execution_count": 218,
   "id": "87ffeb24-0bf7-40ff-bc6d-da40238e251b",
   "metadata": {
    "tags": []
   },
   "outputs": [
    {
     "data": {
      "text/plain": [
       "True"
      ]
     },
     "execution_count": 218,
     "metadata": {},
     "output_type": "execute_result"
    }
   ],
   "source": [
    "bool(\"\") == False"
   ]
  },
  {
   "cell_type": "code",
   "execution_count": null,
   "id": "c7094510-a432-489c-855d-3941e4dcf730",
   "metadata": {},
   "outputs": [],
   "source": []
  }
 ],
 "metadata": {
  "kernelspec": {
   "display_name": "Python 3 (ipykernel)",
   "language": "python",
   "name": "python3"
  },
  "language_info": {
   "codemirror_mode": {
    "name": "ipython",
    "version": 3
   },
   "file_extension": ".py",
   "mimetype": "text/x-python",
   "name": "python",
   "nbconvert_exporter": "python",
   "pygments_lexer": "ipython3",
   "version": "3.11.7"
  }
 },
 "nbformat": 4,
 "nbformat_minor": 5
}
